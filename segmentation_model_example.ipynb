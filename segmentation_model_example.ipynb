{
  "cells": [
    {
      "cell_type": "markdown",
      "metadata": {
        "id": "view-in-github",
        "colab_type": "text"
      },
      "source": [
        "<a href=\"https://colab.research.google.com/github/Manuel0104/Enhancement-ultrasonic-tomographic-image/blob/main/segmentation_model_example.ipynb\" target=\"_parent\"><img src=\"https://colab.research.google.com/assets/colab-badge.svg\" alt=\"Open In Colab\"/></a>"
      ]
    },
    {
      "cell_type": "markdown",
      "metadata": {
        "id": "eFjnkr5pNZcT"
      },
      "source": [
        "## **CPU-GPU CHARACTERISTICS** "
      ]
    },
    {
      "cell_type": "code",
      "execution_count": null,
      "metadata": {
        "id": "X376gKPjEIEy"
      },
      "outputs": [],
      "source": [
        "from psutil import *"
      ]
    },
    {
      "cell_type": "code",
      "execution_count": null,
      "metadata": {
        "colab": {
          "base_uri": "https://localhost:8080/"
        },
        "id": "WBETyo5jEPkT",
        "outputId": "8d0ba290-2b5f-4366-9997-96f057ed9a1b"
      },
      "outputs": [
        {
          "data": {
            "text/plain": [
              "2"
            ]
          },
          "execution_count": 2,
          "metadata": {},
          "output_type": "execute_result"
        }
      ],
      "source": [
        "cpu_count()"
      ]
    },
    {
      "cell_type": "code",
      "execution_count": null,
      "metadata": {
        "colab": {
          "base_uri": "https://localhost:8080/"
        },
        "id": "IazWJhIlERPq",
        "outputId": "3c9ef3ba-cc4b-44c5-d162-fc4b32e83b37"
      },
      "outputs": [
        {
          "name": "stdout",
          "output_type": "stream",
          "text": [
            "Model name:          Intel(R) Xeon(R) CPU @ 2.20GHz\n"
          ]
        }
      ],
      "source": [
        "!lscpu |grep 'Model name'"
      ]
    },
    {
      "cell_type": "code",
      "execution_count": null,
      "metadata": {
        "colab": {
          "base_uri": "https://localhost:8080/"
        },
        "id": "PiCJbaezEY4C",
        "outputId": "df0eff8d-63a3-4273-bdda-bef1e67280da"
      },
      "outputs": [
        {
          "name": "stdout",
          "output_type": "stream",
          "text": [
            "df: awk: No such file or directory\n",
            "df: '{print $4}': No such file or directory\n",
            "Filesystem      Size  Used Avail Use% Mounted on\n",
            "overlay          79G   38G   41G  48% /\n"
          ]
        }
      ],
      "source": [
        "!df -h / awk '{print $4}'"
      ]
    },
    {
      "cell_type": "code",
      "execution_count": null,
      "metadata": {
        "colab": {
          "base_uri": "https://localhost:8080/"
        },
        "id": "U_tr_GvsEb2w",
        "outputId": "b2969e45-3cdb-4788-a9ce-184f068071fa"
      },
      "outputs": [
        {
          "name": "stdout",
          "output_type": "stream",
          "text": [
            "GPU 0: Tesla T4 (UUID: GPU-8a19e933-fcde-8ab3-07b9-cdb5d94a3ec6)\n"
          ]
        }
      ],
      "source": [
        "!nvidia-smi -L"
      ]
    },
    {
      "cell_type": "code",
      "execution_count": null,
      "metadata": {
        "colab": {
          "base_uri": "https://localhost:8080/"
        },
        "id": "sLLoiTLdEft1",
        "outputId": "673c1505-ed56-4f57-d785-6955e3b71901"
      },
      "outputs": [
        {
          "name": "stdout",
          "output_type": "stream",
          "text": [
            "Tue Sep  6 12:29:35 2022       \n",
            "+-----------------------------------------------------------------------------+\n",
            "| NVIDIA-SMI 460.32.03    Driver Version: 460.32.03    CUDA Version: 11.2     |\n",
            "|-------------------------------+----------------------+----------------------+\n",
            "| GPU  Name        Persistence-M| Bus-Id        Disp.A | Volatile Uncorr. ECC |\n",
            "| Fan  Temp  Perf  Pwr:Usage/Cap|         Memory-Usage | GPU-Util  Compute M. |\n",
            "|                               |                      |               MIG M. |\n",
            "|===============================+======================+======================|\n",
            "|   0  Tesla T4            Off  | 00000000:00:04.0 Off |                    0 |\n",
            "| N/A   48C    P8    10W /  70W |      0MiB / 15109MiB |      0%      Default |\n",
            "|                               |                      |                  N/A |\n",
            "+-------------------------------+----------------------+----------------------+\n",
            "                                                                               \n",
            "+-----------------------------------------------------------------------------+\n",
            "| Processes:                                                                  |\n",
            "|  GPU   GI   CI        PID   Type   Process name                  GPU Memory |\n",
            "|        ID   ID                                                   Usage      |\n",
            "|=============================================================================|\n",
            "|  No running processes found                                                 |\n",
            "+-----------------------------------------------------------------------------+\n"
          ]
        }
      ],
      "source": [
        "!nvidia-smi "
      ]
    },
    {
      "cell_type": "markdown",
      "metadata": {
        "id": "IuuYCleDWxov"
      },
      "source": [
        "## PACKAGES INSTALLATION"
      ]
    },
    {
      "cell_type": "code",
      "execution_count": null,
      "metadata": {
        "colab": {
          "base_uri": "https://localhost:8080/"
        },
        "id": "0vba1m_DKeLh",
        "outputId": "78a23d04-d924-4872-c731-6ffd92ffec9b"
      },
      "outputs": [
        {
          "output_type": "stream",
          "name": "stdout",
          "text": [
            "Mounted at /content/drive\n"
          ]
        }
      ],
      "source": [
        "from google.colab import drive\n",
        "drive.mount('/content/drive')"
      ]
    },
    {
      "cell_type": "code",
      "execution_count": null,
      "metadata": {
        "id": "jXBgh6Dh43VG"
      },
      "outputs": [],
      "source": [
        "!pip install segmentation-models\n",
        "!pip install tensorflow==2.1.0\n",
        "!pip install keras==2.3.1\n",
        "!pip uninstall h5py\n",
        "!pip install h5py==2.10.0\n",
        "#Force session restart\n",
        "exit(0)"
      ]
    },
    {
      "cell_type": "code",
      "execution_count": null,
      "metadata": {
        "id": "f472cLOK5Clb"
      },
      "outputs": [],
      "source": [
        "%matplotlib inline"
      ]
    },
    {
      "cell_type": "code",
      "execution_count": null,
      "metadata": {
        "id": "gRZhrE675DkB"
      },
      "outputs": [],
      "source": [
        "import glob\n",
        "from tifffile import imread\n",
        "import cv2\n",
        "import os\n",
        "import numpy as np\n",
        "from matplotlib import pyplot as plt\n",
        "import tensorflow as tf\n",
        "from sklearn.preprocessing import MinMaxScaler\n",
        "import random\n",
        "import socket\n",
        "from tqdm import tqdm"
      ]
    },
    {
      "cell_type": "code",
      "execution_count": null,
      "metadata": {
        "colab": {
          "base_uri": "https://localhost:8080/"
        },
        "id": "NlsigS6a5FMT",
        "outputId": "0c14bd9a-da9b-475e-db8d-59ca1b6be7f4"
      },
      "outputs": [
        {
          "output_type": "stream",
          "name": "stderr",
          "text": [
            "Using TensorFlow backend.\n"
          ]
        },
        {
          "output_type": "stream",
          "name": "stdout",
          "text": [
            "Segmentation Models: using `keras` framework.\n"
          ]
        }
      ],
      "source": [
        "import segmentation_models as sm\n",
        "from segmentation_models import Unet\n",
        "from segmentation_models.utils import set_trainable"
      ]
    },
    {
      "cell_type": "markdown",
      "metadata": {
        "id": "zRQI5cqUu7vh"
      },
      "source": [
        "## LOADING DATA"
      ]
    },
    {
      "cell_type": "code",
      "execution_count": null,
      "metadata": {
        "id": "l1i_mBTuzU7U"
      },
      "outputs": [],
      "source": [
        "#Resizing images is optional, CNNs are ok with large images\n",
        "SIZE_X = 128 #Resize images (height  = X, width = Y)\n",
        "SIZE_Y = 128 \n",
        "\n",
        "#Capture training image info as a list\n",
        "image_names = glob.glob(\"/content/drive/MyDrive/Colab_Notebooks/LABproject/U-Net/DATA/TRAIN_IMAGES/TIFF/*.tiff\")\n",
        "train_images = []\n",
        "image_names.sort()\n",
        "#image_names_subset = image_names[0:num_images]\n",
        "for image in image_names:\n",
        "    images = cv2.imread(image, cv2.IMREAD_COLOR) \n",
        "    img = cv2.resize(images, (SIZE_Y, SIZE_X)) \n",
        "    img = cv2.cvtColor(img, cv2.COLOR_RGB2BGR)\n",
        "    train_images.append(img)\n",
        "#Convert list to array for machine learning processing  \n",
        "train_images = np.array(train_images)\n",
        "    \n",
        "\n",
        "#Capture mask/label info as a list\n",
        "mask_names = glob.glob(\"/content/drive/MyDrive/Colab_Notebooks/LABproject/U-Net/DATA/TRAIN_MASKS/Qupath_mask/*.tif\")\n",
        "train_masks = [] \n",
        "mask_names.sort()\n",
        "#mask_names_subset = mask_names[0:num_images]\n",
        "for mask in mask_names:\n",
        "    masks = cv2.imread(mask, 0)\n",
        "    mask = cv2.resize(masks, (SIZE_Y, SIZE_X))/255 #/193 \n",
        "    train_masks.append(mask)\n",
        "#Convert list to array for machine learning processing          \n",
        "train_masks = np.array(train_masks)"
      ]
    },
    {
      "cell_type": "code",
      "execution_count": null,
      "metadata": {
        "colab": {
          "base_uri": "https://localhost:8080/"
        },
        "id": "BplpnSLn26nG",
        "outputId": "dc3848c2-ab72-459d-86c7-c126eeee070d"
      },
      "outputs": [
        {
          "data": {
            "text/plain": [
              "((32, 128, 128, 3), (32, 128, 128))"
            ]
          },
          "execution_count": 27,
          "metadata": {},
          "output_type": "execute_result"
        }
      ],
      "source": [
        "train_images.shape,train_masks.shape"
      ]
    },
    {
      "cell_type": "code",
      "execution_count": null,
      "metadata": {
        "colab": {
          "base_uri": "https://localhost:8080/",
          "height": 262
        },
        "id": "37n77IMx17tq",
        "outputId": "06174955-28e9-43d1-b6ac-cde5cccca4d0"
      },
      "outputs": [
        {
          "data": {
            "image/png": "[encoded data removed]",
            "text/plain": [
              "<Figure size 864x576 with 2 Axes>"
            ]
          },
          "metadata": {},
          "output_type": "display_data"
        }
      ],
      "source": [
        "img_number = random.randint(0, len(train_images)-1)\n",
        "img = train_images[21]\n",
        "mask = train_masks[21]\n",
        "plt.figure(figsize=(12, 8))\n",
        "plt.subplot(221)\n",
        "plt.title('Tomographic image')\n",
        "plt.imshow(img)\n",
        "plt.subplot(222)\n",
        "plt.title('Ground truth image')\n",
        "plt.imshow(mask,cmap='plasma')\n",
        "plt.show()"
      ]
    },
    {
      "cell_type": "code",
      "execution_count": null,
      "metadata": {
        "id": "nBSB45QJJ9IA"
      },
      "outputs": [],
      "source": [
        "#Use customary x_train and y_train variables\n",
        "X = train_images\n",
        "Y = train_masks\n",
        "Y = np.expand_dims(Y, axis=3) #May not be necessary.. leftover from previous code \n",
        "\n",
        "from sklearn.model_selection import train_test_split\n",
        "x_train, x_val, y_train, y_val = train_test_split(X, Y, test_size=0.25, random_state=0)\n",
        "\n",
        "# preprocess input\n",
        "#x_train = preprocess_input(x_train)\n",
        "#x_val = preprocess_input(x_val)"
      ]
    },
    {
      "cell_type": "code",
      "execution_count": null,
      "metadata": {
        "colab": {
          "base_uri": "https://localhost:8080/"
        },
        "id": "eRehPRryHywa",
        "outputId": "9da377b4-32f5-4be6-e9ef-14e11dd9c677"
      },
      "outputs": [
        {
          "data": {
            "text/plain": [
              "(255,\n",
              " 255,\n",
              " 1.0,\n",
              " 1.0,\n",
              " (24, 128, 128, 3),\n",
              " (24, 128, 128, 1),\n",
              " (8, 128, 128, 3),\n",
              " (8, 128, 128, 1))"
            ]
          },
          "execution_count": 30,
          "metadata": {},
          "output_type": "execute_result"
        }
      ],
      "source": [
        "x_train.max(),x_val.max(),y_train.max(),y_val.max(),x_train.shape,y_train.shape,x_val.shape,y_val.shape"
      ]
    },
    {
      "cell_type": "code",
      "execution_count": null,
      "metadata": {
        "id": "2dOOnn5Mim9O"
      },
      "outputs": [],
      "source": [
        "#scaler = MinMaxScaler()\n",
        "#x_train=scaler.fit_transform(x_train.reshape(-1, x_train.shape[-1])).reshape(x_train.shape)\n",
        "#x_val=scaler.fit_transform(x_val.reshape(-1, x_val.shape[-1])).reshape(x_val.shape)\n",
        "#y_train=scaler.fit_transform(y_train.reshape(-1, y_train.shape[-1])).reshape(y_train.shape)\n",
        "#y_val=scaler.fit_transform(y_val.reshape(-1, y_val.shape[-1])).reshape(y_val.shape)"
      ]
    },
    {
      "cell_type": "code",
      "execution_count": null,
      "metadata": {
        "id": "jZSgLysTII4B"
      },
      "outputs": [],
      "source": [
        "#y_train = np.squeeze(y_train,axis=3)\n",
        "#y_val = np.squeeze(y_val,axis=3)\n",
        "#print(y_train.shape,y_val.shape)"
      ]
    },
    {
      "cell_type": "code",
      "execution_count": null,
      "metadata": {
        "id": "xe0ikWHsXO3z"
      },
      "outputs": [],
      "source": [
        "n = random.choice(np.arange(0,22))\n",
        "print(n)\n",
        "plt.figure(figsize=(12, 8))\n",
        "plt.subplot(221)\n",
        "plt.imshow(x_train[n])\n",
        "plt.title('IMAGE')\n",
        "plt.subplot(222)\n",
        "#plt.imshow(y_train[n])\n",
        "plt.imshow(np.squeeze(y_train,axis=3)[n])\n",
        "plt.title('MASK')"
      ]
    },
    {
      "cell_type": "markdown",
      "metadata": {
        "id": "BytA44Av5NJv"
      },
      "source": [
        "## TRAIN MODEL "
      ]
    },
    {
      "cell_type": "code",
      "execution_count": null,
      "metadata": {
        "id": "DMRa2Q_l5KCE"
      },
      "outputs": [],
      "source": [
        "BACKBONE = 'efficientnetb4'\n",
        "BACKBONE2 = 'densenet201'\n",
        "BACKBONE3 = 'resnet50'\n",
        "preprocess_input = sm.get_preprocessing(BACKBONE)"
      ]
    },
    {
      "cell_type": "code",
      "execution_count": null,
      "metadata": {
        "id": "pSRhGCkbKJ-G"
      },
      "outputs": [],
      "source": [
        "# define model\n",
        "model = sm.Unet(BACKBONE3,encoder_weights='imagenet')\n",
        "model.compile('Adam', loss=sm.losses.bce_jaccard_loss, metrics = [sm.metrics.IOUScore(threshold=0.5), sm.metrics.FScore(threshold=0.5)])\n",
        "#model.compile(optimizer='adam', loss='binary_crossentropy', metrics=['mse'])\n",
        "\n",
        "print(model.summary())"
      ]
    },
    {
      "cell_type": "code",
      "execution_count": null,
      "metadata": {
        "colab": {
          "background_save": true
        },
        "id": "T8VpZGtpM5J9"
      },
      "outputs": [],
      "source": [
        "# set all layers trainable and recompile model\n",
        "history = model.fit(x=x_train,y=y_train,epochs=400,validation_data=(x_val, y_val))\n",
        "accuracy = model.evaluate(x_val, y_val)"
      ]
    },
    {
      "cell_type": "code",
      "execution_count": null,
      "metadata": {
        "id": "MhmvXSqjSjkJ"
      },
      "outputs": [],
      "source": [
        "loss = history.history['loss']\n",
        "val_loss = history.history['val_loss']\n",
        "iou_score = history.history['iou_score']\n",
        "val_iou_score = history.history['val_iou_score']\n",
        "f1_score = history.history['f1-score']\n",
        "val_f1_score = history.history['val_f1-score']\n",
        "epochs = range(1, len(loss) + 1)\n",
        "plt.figure(figsize=(16,16))\n",
        "plt.subplot(311)\n",
        "plt.plot(epochs, loss, 'y', label='Training loss')\n",
        "plt.plot(epochs, val_loss, 'r', label='Validation loss')\n",
        "plt.title('Training and validation loss')\n",
        "plt.xlabel('Epochs')\n",
        "plt.ylabel('Loss')\n",
        "plt.legend()\n",
        "plt.subplot(312)\n",
        "plt.plot(epochs, iou_score, 'y', label='Training iou_score')\n",
        "plt.plot(epochs, val_iou_score, 'r', label='Validation iou_score')\n",
        "plt.title('Training and validation iou_score')\n",
        "plt.xlabel('Epochs')\n",
        "plt.ylabel('iou_score')\n",
        "plt.ylim(0, 1)\n",
        "plt.legend()\n",
        "plt.subplot(313)\n",
        "plt.plot(epochs, f1_score, 'y', label='Training f1-score')\n",
        "plt.plot(epochs, val_f1_score, 'r', label='Validation f1-score')\n",
        "plt.title('Training and validation f1-score')\n",
        "plt.xlabel('Epochs')\n",
        "plt.ylabel('f1-score')\n",
        "plt.legend()\n",
        "plt.ylim(0, 1)\n",
        "plt.show()"
      ]
    },
    {
      "cell_type": "code",
      "execution_count": null,
      "metadata": {
        "id": "OMuaZTEtPQnr"
      },
      "outputs": [],
      "source": [
        "model.save('/content/drive/MyDrive/Colab_Notebooks/LABproject/U-Net/MODELS/Qupathmask_Unet_efficientnetb7_400_epochs_expdata.h5')"
      ]
    },
    {
      "cell_type": "markdown",
      "metadata": {
        "id": "5DeKNwzyZXtI"
      },
      "source": [
        "## MODEL TESTING\n"
      ]
    },
    {
      "cell_type": "code",
      "execution_count": null,
      "metadata": {
        "colab": {
          "base_uri": "https://localhost:8080/"
        },
        "id": "1bn9xaSTu0TP",
        "outputId": "ea0d79dd-d1e2-4632-fac6-ab78ef277300"
      },
      "outputs": [
        {
          "name": "stderr",
          "output_type": "stream",
          "text": [
            "WARNING:tensorflow:Large dropout rate: 0.5125 (>0.5). In TensorFlow 2.x, dropout() uses dropout rate instead of keep_prob. Please ensure that this is intended.\n",
            "WARNING:tensorflow:Large dropout rate: 0.525 (>0.5). In TensorFlow 2.x, dropout() uses dropout rate instead of keep_prob. Please ensure that this is intended.\n",
            "WARNING:tensorflow:Large dropout rate: 0.5375 (>0.5). In TensorFlow 2.x, dropout() uses dropout rate instead of keep_prob. Please ensure that this is intended.\n",
            "WARNING:tensorflow:Large dropout rate: 0.55 (>0.5). In TensorFlow 2.x, dropout() uses dropout rate instead of keep_prob. Please ensure that this is intended.\n",
            "WARNING:tensorflow:Large dropout rate: 0.5625 (>0.5). In TensorFlow 2.x, dropout() uses dropout rate instead of keep_prob. Please ensure that this is intended.\n"
          ]
        }
      ],
      "source": [
        "import efficientnet.tfkeras\n",
        "from tensorflow.keras.models import load_model\n",
        "from tensorflow import keras\n",
        "model = load_model('/content/drive/MyDrive/Colab_Notebooks/LABproject/U-Net/MODELS/Unet_efficientnetb7_400_epochs_expdata.h5', compile=False)\n",
        "model2 = load_model('/content/drive/MyDrive/Colab_Notebooks/LABproject/U-Net/MODELS/Qupathmask_Unet_densenet201_400_epochs_expdata.h5', compile=False)\n",
        "model3 = load_model('/content/drive/MyDrive/Colab_Notebooks/LABproject/U-Net/MODELS/Qupathmask_Unet_resnet50_400_epochs_expdata.h5', compile=False)"
      ]
    },
    {
      "cell_type": "code",
      "execution_count": null,
      "metadata": {
        "id": "YRkFppXi7xgA"
      },
      "outputs": [],
      "source": [
        "#Resizing images is optional, CNNs are ok with large images\n",
        "SIZE_X = 128 #Resize images (height  = X, width = Y)\n",
        "SIZE_Y = 128\n",
        "\n",
        "#Capture training image info as a list\n",
        "image_names_test = glob.glob(\"/content/drive/MyDrive/Colab_Notebooks/LABproject/U-Net/DATA/TEST_IMAGES/*.tiff\")\n",
        "test_images = []\n",
        "image_names_test.sort()\n",
        "#image_names_subset = image_names[0:num_images]\n",
        "for image in image_names_test:\n",
        "    images_2 = cv2.imread(image, cv2.IMREAD_COLOR) \n",
        "    img_2 = cv2.resize(images_2, (SIZE_Y, SIZE_X)) \n",
        "    img_2 = cv2.cvtColor(img_2, cv2.COLOR_RGB2BGR)\n",
        "    test_images.append(img_2)\n",
        "#Convert list to array for machine learning processing  \n",
        "test_images = np.array(test_images)\n",
        "    \n",
        "\n",
        "#Capture mask/label info as a list\n",
        "mask_names_test = glob.glob(\"/content/drive/MyDrive/Colab_Notebooks/LABproject/U-Net/DATA/TEST_MASKS/*.tif\")\n",
        "test_masks = [] \n",
        "mask_names_test.sort()\n",
        "#mask_names_subset = mask_names[0:num_images]\n",
        "for mask in mask_names_test:\n",
        "    masks_2 = cv2.imread(mask, 0)\n",
        "    mask_2 = cv2.resize(masks_2, (SIZE_Y, SIZE_X))/255 #/193 \n",
        "    test_masks.append(mask_2)\n",
        "#Convert list to array for machine learning processing          \n",
        "test_masks = np.array(test_masks)"
      ]
    },
    {
      "cell_type": "code",
      "execution_count": null,
      "metadata": {
        "colab": {
          "base_uri": "https://localhost:8080/"
        },
        "id": "VHDfLQxq8JaH",
        "outputId": "0011e33a-f62c-4fd7-85f2-1f22c01b08d5"
      },
      "outputs": [
        {
          "data": {
            "text/plain": [
              "((8, 128, 128, 3), (8, 128, 128))"
            ]
          },
          "execution_count": 18,
          "metadata": {},
          "output_type": "execute_result"
        }
      ],
      "source": [
        "test_images.shape,test_masks.shape"
      ]
    },
    {
      "cell_type": "code",
      "execution_count": null,
      "metadata": {
        "id": "sgYmLPYErnWT"
      },
      "outputs": [],
      "source": [
        "img_number = random.randint(0, len(test_images)-1)\n",
        "img = test_images[img_number]\n",
        "mask = test_masks[img_number]\n",
        "plt.figure(figsize=(12, 8))\n",
        "plt.subplot(221)\n",
        "plt.title('Image')\n",
        "plt.imshow(img)\n",
        "plt.subplot(222)\n",
        "plt.title('Mask')\n",
        "plt.imshow(mask,cmap='plasma')\n",
        "plt.show()"
      ]
    },
    {
      "cell_type": "code",
      "execution_count": null,
      "metadata": {
        "id": "SV3kmkvbcPMd"
      },
      "outputs": [],
      "source": [
        "def plot_img_label(img,mask, lbl, lbl2,lbl3, img_title=\"Tomographic image\",mask_title = \"Ground-truth\", lbl_title=\"label\",lbl_title_2=\"label\",lbl_title_3=\"label\",**kwargs):\n",
        "    fig, (ai,am,al,al2,al3) = plt.subplots(1,5, figsize=(12,6), gridspec_kw=dict(width_ratios=(1,1,1,1,1)))\n",
        "    im = ai.imshow(img, cmap='gray', clim=(0,1))\n",
        "    ai.set_title(img_title)    \n",
        "    #fig.colorbar(im, ax=ai)\n",
        "    ma = am.imshow(mask,cmap='plasma', clim=(0,1))\n",
        "    am.set_title(mask_title)\n",
        "    al.imshow(lbl, cmap='plasma')\n",
        "    al.set_title(lbl_title)\n",
        "    plt.tight_layout()\n",
        "    al2.imshow(lbl2, cmap='plasma')\n",
        "    al2.set_title(lbl_title_2)\n",
        "    plt.tight_layout()\n",
        "    al3.imshow(lbl3, cmap='plasma')\n",
        "    al3.set_title(lbl_title_3)\n",
        "    plt.tight_layout()"
      ]
    },
    {
      "cell_type": "code",
      "execution_count": null,
      "metadata": {
        "id": "gVGTaW6_EbDM"
      },
      "outputs": [],
      "source": [
        "for i in range(len(test_images)):    \n",
        "    test_img = test_images[i]\n",
        "    mask_img = test_masks[i]\n",
        "    assert img_2.ndim in (2,3)\n",
        "    test_img = test_img if (test_img.ndim==2 or test_img.shape[-1]==3) else test_img[...,0]\n",
        "    test_img = cv2.resize(test_img, (SIZE_Y, SIZE_X))\n",
        "    #test_img = cv2.cvtColor(test_img, cv2.COLOR_RGB2BGR)\n",
        "    test_img = np.expand_dims(test_img, axis=0)\n",
        "    mask_img = cv2.resize(mask_img, (SIZE_Y, SIZE_X))\n",
        "    prediction = model.predict(test_img)\n",
        "    prediction_image = prediction.reshape(mask_2.shape)\n",
        "    prediction_2 = model2.predict(test_img)\n",
        "    prediction_image_2 = prediction_2.reshape(mask_2.shape)\n",
        "    prediction_3 = model3.predict(test_img)\n",
        "    prediction_image_3 = prediction_3.reshape(mask_2.shape)\n",
        "    test_img = np.squeeze(test_img,axis=0)\n",
        "    #mask_img = np.squeeze(mask_img,axis=2)\n",
        "    plot_img_label(test_img,mask_img,prediction_image,prediction_image_2,prediction_image_3, lbl_title=\"Unet_EfficientNetB7\",lbl_title_2=\"Unet_DenseNet-201\",lbl_title_3=\"Unet_ResNet-50\")"
      ]
    },
    {
      "cell_type": "code",
      "execution_count": null,
      "metadata": {
        "colab": {
          "base_uri": "https://localhost:8080/"
        },
        "id": "Sfq2MSlpiN0W",
        "outputId": "c55e606a-c8b6-4090-81d9-c92034502749"
      },
      "outputs": [
        {
          "data": {
            "text/plain": [
              "((128, 128), dtype('float32'), 1.079683e-06, 0.99999833)"
            ]
          },
          "execution_count": 31,
          "metadata": {},
          "output_type": "execute_result"
        }
      ],
      "source": [
        "test_img_2 = test_images[7]\n",
        "mask_img_2 = test_masks[7]\n",
        "test_img_2 = np.expand_dims(test_img_2, axis=0)\n",
        "prediction_2 = model.predict(test_img_2)\n",
        "prediction_image_2 = prediction_2.reshape(mask_2.shape)\n",
        "#prediction_image_2 =np.squeeze(prediction_2,axis=0)\n",
        "#prediction_image_2 = np.squeeze(prediction_image_2,axis=2)\n",
        "prediction_image_2.shape,prediction_image_2.dtype,prediction_image_2.min(),prediction_image_2.max()"
      ]
    },
    {
      "cell_type": "code",
      "execution_count": null,
      "metadata": {
        "id": "mPTGhA6hTje7"
      },
      "outputs": [],
      "source": [
        "plt.figure(1)\n",
        "plt.imshow(prediction_image_2,cmap='rainbow')\n",
        "plt.figure(2)\n",
        "plt.imshow(prediction_image_2,cmap='plasma')\n",
        "plt.figure(3)\n",
        "plt.imshow(prediction_image_2,cmap='inferno')\n",
        "plt.figure(4)\n",
        "plt.imshow(prediction_image_2,cmap='magma')\n",
        "plt.figure(5)\n",
        "plt.imshow(prediction_image_2,cmap='cividis')"
      ]
    },
    {
      "cell_type": "markdown",
      "metadata": {
        "id": "nn8Y-c7c_pHu"
      },
      "source": [
        "## METRICS "
      ]
    },
    {
      "cell_type": "code",
      "execution_count": null,
      "metadata": {
        "id": "n8vQdiVE53pz"
      },
      "outputs": [],
      "source": [
        "from keras.metrics import MeanIoU\n",
        "from random import randint\n",
        "from sklearn import metrics"
      ]
    },
    {
      "cell_type": "code",
      "execution_count": null,
      "metadata": {
        "colab": {
          "base_uri": "https://localhost:8080/"
        },
        "id": "cnwLKbL39jH7",
        "outputId": "e50e1b9f-6d22-49c3-c229-f24dc85dba7f"
      },
      "outputs": [
        {
          "name": "stdout",
          "output_type": "stream",
          "text": [
            "4\n"
          ]
        }
      ],
      "source": [
        "n = randint(0,7)\n",
        "test_img_2 = test_images[5]\n",
        "mask_img_2 = test_masks[5]\n",
        "y_test = mask_img_2.reshape(mask_2.shape)\n",
        "test_img_2 = np.expand_dims(test_img_2, axis=0)\n",
        "prediction_2 = model.predict(test_img_2)\n",
        "prediction_image_2 = prediction_2.reshape(mask_2.shape)\n",
        "prediction_3 = model2.predict(test_img_2)\n",
        "prediction_image_3 = prediction_3.reshape(mask_2.shape)\n",
        "prediction_4 = model3.predict(test_img_2)\n",
        "prediction_image_4 = prediction_4.reshape(mask_2.shape)\n",
        "print(n)"
      ]
    },
    {
      "cell_type": "code",
      "execution_count": null,
      "metadata": {
        "id": "5SjYn0qEM0Ty"
      },
      "outputs": [],
      "source": [
        "### IoU SCORE###\n",
        "y_pred_thresholded1 = prediction_image_2 > 0.5 \n",
        "y_pred_thresholded2 = prediction_image_3 > 0.5 \n",
        "y_pred_thresholded3 = prediction_image_4 > 0.5 \n",
        "\n",
        "#MODEL 1 \n",
        "intersection1 = np.logical_and(y_test, y_pred_thresholded1)\n",
        "union1 = np.logical_or(y_test, y_pred_thresholded1)\n",
        "iou_score1 = np.sum(intersection1) / np.sum(union1)\n",
        "print(\"Mean IoU(Unet_efficientnetb4) = \", str(iou_score1*100)+'%')\n",
        "#MODEL 2 \n",
        "intersection2 = np.logical_and(y_test, y_pred_thresholded2)\n",
        "union2 = np.logical_or(y_test, y_pred_thresholded2)\n",
        "iou_score2 = np.sum(intersection2) / np.sum(union2)\n",
        "print(\"Mean IoU(Unet_DenseNet201) = \", str(iou_score2*100)+'%')\n",
        "#MODEL 3\n",
        "intersection3 = np.logical_and(y_test, y_pred_thresholded3)\n",
        "union3 = np.logical_or(y_test, y_pred_thresholded3)\n",
        "iou_score3 = np.sum(intersection3) / np.sum(union3)\n",
        "print(\"Mean IoU(Unet_Resnet50) = \", str(iou_score3*100)+'%')\n",
        "plot_img_label(test_img,y_test,prediction_image_2,prediction_image_3,prediction_image_4, lbl_title=\"Unet_efficientnetb4\",lbl_title_2=\"Unet_DenseNet201\",lbl_title_3=\"Unet_resnet50\")"
      ]
    },
    {
      "cell_type": "code",
      "execution_count": null,
      "metadata": {
        "id": "_gjrhUJKESwt"
      },
      "outputs": [],
      "source": [
        "#num_classes = 2\n",
        "#IOU_keras_Unet_efficientnetb6 = MeanIoU(num_classes=num_classes)\n",
        "#IOU_keras_Unet_efficientnetb7 = MeanIoU(num_classes=num_classes)\n",
        "#IOU_keras_Unet_resnet50 = MeanIoU(num_classes=num_classes)\n",
        "#IOU_keras_Unet_efficientnetb6.update_state(mask_img_2.reshape(-1), prediction_image_2.reshape(-1))\n",
        "#IOU_keras_Unet_efficientnetb7.update_state(mask_img_2.reshape(-1), prediction_image_3.reshape(-1))\n",
        "#IOU_keras_Unet_resnet50.update_state(mask_img_2.reshape(-1), prediction_image_4.reshape(-1))\n",
        "#test_img = np.squeeze(test_img_2,axis=0)\n",
        "#plot_img_label(test_img,mask_img_2,prediction_image_2,prediction_image_3,prediction_image_4, lbl_title=\"Unet_efficientnetb6\",lbl_title_2=\"Unet_efficientnetb7\",lbl_title_3=\"Unet_resnet50\")\n",
        "#print(\"Mean IoU(Unet_efficientnetb6) =\", str(IOU_keras_Unet_efficientnetb6.result().numpy()*100) +'%')\n",
        "#print(\"Mean IoU(Unet_efficientnetb7) =\", str(IOU_keras_Unet_efficientnetb7.result().numpy()*100) +'%')\n",
        "#print(\"Mean IoU(Unet_resnet50) =\", str(IOU_keras_Unet_resnet50.result().numpy()*100) +'%')"
      ]
    },
    {
      "cell_type": "markdown",
      "metadata": {
        "id": "88_ZwlhKs3P9"
      },
      "source": [
        "## METRICS IMPROVEMENT (ENSEMBLE)\n"
      ]
    },
    {
      "cell_type": "code",
      "execution_count": null,
      "metadata": {
        "id": "BzGTZNzJs8nm"
      },
      "outputs": [],
      "source": [
        "from keras.metrics import MeanIoU\n",
        "import pandas as pd"
      ]
    },
    {
      "cell_type": "code",
      "execution_count": null,
      "metadata": {
        "id": "BZp0w1y6mqSd"
      },
      "outputs": [],
      "source": [
        "import efficientnet.tfkeras\n",
        "from tensorflow.keras.models import load_model\n",
        "from tensorflow import keras\n",
        "model = load_model('/content/drive/MyDrive/Colab_Notebooks/LABproject/U-Net/MODELS/Qupathmask_Unet_efficientnetb4_400_epochs_expdata.h5', compile=False)\n",
        "model2 = load_model('/content/drive/MyDrive/Colab_Notebooks/LABproject/U-Net/MODELS/Qupathmask_Unet_densenet201_400_epochs_expdata.h5', compile=False)\n",
        "model3 = load_model('/content/drive/MyDrive/Colab_Notebooks/LABproject/U-Net/MODELS/Qupathmask_Unet_resnet50_400_epochs_expdata.h5', compile=False)"
      ]
    },
    {
      "cell_type": "code",
      "execution_count": null,
      "metadata": {
        "id": "_WwAkqhZnJ2U"
      },
      "outputs": [],
      "source": [
        "#Resizing images is optional, CNNs are ok with large images\n",
        "SIZE_X = 128 #Resize images (height  = X, width = Y)\n",
        "SIZE_Y = 128\n",
        "\n",
        "#Capture training image info as a list\n",
        "image_names_test = glob.glob(\"/content/drive/MyDrive/Colab_Notebooks/LABproject/U-Net/DATA/TEST_IMAGES/*.tiff\")\n",
        "test_images = []\n",
        "image_names_test.sort()\n",
        "#image_names_subset = image_names[0:num_images]\n",
        "for image in image_names_test:\n",
        "    images_2 = cv2.imread(image, cv2.IMREAD_COLOR) \n",
        "    img_2 = cv2.resize(images_2, (SIZE_Y, SIZE_X)) \n",
        "    img_2 = cv2.cvtColor(img_2, cv2.COLOR_RGB2BGR)\n",
        "    test_images.append(img_2)\n",
        "#Convert list to array for machine learning processing  \n",
        "test_images = np.array(test_images)\n",
        "    \n",
        "\n",
        "#Capture mask/label info as a list\n",
        "mask_names_test = glob.glob(\"/content/drive/MyDrive/Colab_Notebooks/LABproject/U-Net/DATA/TEST_MASKS/*.tif\")\n",
        "test_masks = [] \n",
        "mask_names_test.sort()\n",
        "#mask_names_subset = mask_names[0:num_images]\n",
        "for mask in mask_names_test:\n",
        "    masks_2 = cv2.imread(mask, 0)\n",
        "    mask_2 = cv2.resize(masks_2, (SIZE_Y, SIZE_X))/255 #/193 \n",
        "    test_masks.append(mask_2)\n",
        "#Convert list to array for machine learning processing          \n",
        "test_masks = np.array(test_masks)"
      ]
    },
    {
      "cell_type": "code",
      "execution_count": null,
      "metadata": {
        "id": "WljOVi-YmumP"
      },
      "outputs": [],
      "source": [
        "models = [model,model2,model3]"
      ]
    },
    {
      "cell_type": "code",
      "execution_count": null,
      "metadata": {
        "colab": {
          "base_uri": "https://localhost:8080/"
        },
        "id": "7S-MneXcxSPJ",
        "outputId": "90676e39-f0ff-499b-9ebb-24198f8dec0a"
      },
      "outputs": [
        {
          "name": "stdout",
          "output_type": "stream",
          "text": [
            "7\n"
          ]
        }
      ],
      "source": [
        "#i = random.randint(0, len(test_images)-1)\n",
        "i = 7\n",
        "print(i)"
      ]
    },
    {
      "cell_type": "code",
      "execution_count": null,
      "metadata": {
        "id": "l8HoTQ2Z15YL"
      },
      "outputs": [],
      "source": [
        "img = test_images[i]\n",
        "mask = test_masks[i]\n",
        "plt.figure(figsize=(12, 8))\n",
        "plt.subplot(221)\n",
        "plt.title('Tomographic image')\n",
        "plt.imshow(img)\n",
        "plt.subplot(222)\n",
        "plt.title('Ground truth image')\n",
        "plt.imshow(mask,cmap='plasma')\n",
        "plt.show()\n",
        "print(img_number)"
      ]
    },
    {
      "cell_type": "code",
      "execution_count": null,
      "metadata": {
        "colab": {
          "base_uri": "https://localhost:8080/"
        },
        "id": "p0PZzDrgnLXq",
        "outputId": "e2d0113b-354d-4ac8-e9eb-f5f2e22fb576"
      },
      "outputs": [
        {
          "name": "stdout",
          "output_type": "stream",
          "text": [
            "(128, 128) 1.7739742e-09 1.0\n"
          ]
        }
      ],
      "source": [
        "test_img_2 = test_images[i]\n",
        "mask_img_2 = test_masks[i]\n",
        "test_img_2 = np.expand_dims(test_img_2, axis=0)\n",
        "y_test = mask_img_2.reshape(mask_2.shape)\n",
        "prediction_1 = model.predict(test_img_2)\n",
        "prediction_image_1 = prediction_1.reshape(mask_2.shape)\n",
        "prediction_2 = model2.predict(test_img_2)\n",
        "prediction_image_2 = prediction_2.reshape(mask_2.shape)\n",
        "prediction_3 = model3.predict(test_img_2)\n",
        "prediction_image_3 = prediction_3.reshape(mask_2.shape)\n",
        "print(mask_img_2.shape,prediction_image_1.min(),prediction_image_1.max())"
      ]
    },
    {
      "cell_type": "code",
      "execution_count": null,
      "metadata": {
        "colab": {
          "base_uri": "https://localhost:8080/"
        },
        "id": "4QVUci5Gw8up",
        "outputId": "0688a7b2-fad2-4cf1-e42d-2e7673e90065"
      },
      "outputs": [
        {
          "name": "stdout",
          "output_type": "stream",
          "text": [
            "(3, 1, 128, 128, 1)\n"
          ]
        }
      ],
      "source": [
        "preds=np.array([prediction_1, prediction_2, prediction_3])\n",
        "#Set weights to assign the weight of each model \n",
        "weights = [0.3, 0.5, 0.2] \n",
        "print(preds.shape)"
      ]
    },
    {
      "cell_type": "code",
      "execution_count": null,
      "metadata": {
        "colab": {
          "base_uri": "https://localhost:8080/"
        },
        "id": "W2sa0C6CxBbd",
        "outputId": "b9f61b5f-fad9-49b3-d96f-ebdb2b689219"
      },
      "outputs": [
        {
          "data": {
            "text/plain": [
              "(128, 128)"
            ]
          },
          "execution_count": 107,
          "metadata": {},
          "output_type": "execute_result"
        }
      ],
      "source": [
        "weighted_preds = np.tensordot(preds, weights, axes=((0),(0)))\n",
        "weighted_ensemble_prediction = np.amax(weighted_preds, axis=3)\n",
        "weighted_ensemble_prediction = weighted_ensemble_prediction.reshape(mask_2.shape)\n",
        "weighted_ensemble_prediction.shape"
      ]
    },
    {
      "cell_type": "code",
      "execution_count": null,
      "metadata": {
        "id": "2InukYg1AMt2"
      },
      "outputs": [],
      "source": [
        "y_pred1_argmax=np.amax(prediction_1, axis=3)\n",
        "y_pred1_argmax = y_pred1_argmax.reshape(mask_2.shape)\n",
        "y_pred2_argmax=np.amax(prediction_2, axis=3)\n",
        "y_pred2_argmax = y_pred2_argmax.reshape(mask_2.shape)\n",
        "y_pred3_argmax=np.amax(prediction_3, axis=3)\n",
        "y_pred3_argmax = y_pred3_argmax.reshape(mask_2.shape)"
      ]
    },
    {
      "cell_type": "code",
      "execution_count": null,
      "metadata": {
        "colab": {
          "base_uri": "https://localhost:8080/"
        },
        "id": "kGvgobtPBG7L",
        "outputId": "9d093b91-22f7-4c8f-a639-7dd991da0b81"
      },
      "outputs": [
        {
          "name": "stdout",
          "output_type": "stream",
          "text": [
            "Max IOU of  98.91205802357209%  obained with w1= 0.6  w2= 0.4  and w3= 0.9\n"
          ]
        }
      ],
      "source": [
        "df = pd.DataFrame([])\n",
        "\n",
        "for w1 in range(0,10):\n",
        "    for w2 in range(0,10):\n",
        "        for w3 in range(0,10):\n",
        "            wts = [w1/10.,w2/10.,w3/10.]\n",
        "            wted_preds = np.tensordot(preds, wts, axes=((0),(0)))\n",
        "            wted_ensemble_pred = np.amax(wted_preds, axis=3)\n",
        "            wted_ensemble_pred = wted_ensemble_pred.reshape(mask_2.shape)\n",
        "\n",
        "            y_pred_thresholded_wted = wted_ensemble_pred > 0.5\n",
        "\n",
        "            intersectionwted_pred = np.logical_and(y_test, y_pred_thresholded_wted)\n",
        "            unionwted_pred = np.logical_or(y_test, y_pred_thresholded_wted)\n",
        "            iou_wted = np.sum(intersectionwted_pred) / np.sum(unionwted_pred)\n",
        "            \n",
        "            #print(\"Now predciting for weights :\", w1/10., w2/10., w3/10., \" : IOU = \", str(iou_wted*100)+'%')\n",
        "            df = df.append(pd.DataFrame({'wt1':wts[0],'wt2':wts[1], \n",
        "                                         'wt3':wts[2], 'IOU': iou_wted}, index=[0]), ignore_index=True)\n",
        "            \n",
        "max_iou_row = df.iloc[df['IOU'].idxmax()]\n",
        "print(\"Max IOU of \", str(max_iou_row[3]*100)+'%', \" obained with w1=\", max_iou_row[0],\n",
        "      \" w2=\", max_iou_row[1], \" and w3=\", max_iou_row[2])         \n",
        "\n",
        "\n",
        "#############################################################\n",
        "opt_weights = [max_iou_row[0], max_iou_row[1], max_iou_row[2]]\n",
        "\n",
        "#Use tensordot to sum the products of all elements over specified axes.\n",
        "opt_weighted_preds = np.tensordot(preds, opt_weights, axes=((0),(0)))\n",
        "opt_weighted_ensemble_prediction = np.amax(opt_weighted_preds, axis=3)\n",
        "opt_weighted_ensemble_prediction = opt_weighted_ensemble_prediction.reshape(mask_2.shape)"
      ]
    },
    {
      "cell_type": "code",
      "execution_count": null,
      "metadata": {
        "id": "FRuGIZuXGsSb"
      },
      "outputs": [],
      "source": [
        "def plot_img_label_2(img,mask, lbl, lbl2,lbl3,lbl4,lbl5, img_title=\"image\",mask_title = \"ground-truth\", lbl_title=\"label\",lbl_title_2=\"label\",lbl_title_3=\"label\",lbl_title_4=\"label\",lbl_title_5=\"label\",**kwargs):\n",
        "    fig, (ai,am,al,al2,al3,al4,al5) = plt.subplots(1,7, figsize=(20,20), gridspec_kw=dict(width_ratios=(1,1,1,1,1,1,1)))\n",
        "    im = ai.imshow(img, cmap='gray', clim=(0,1))\n",
        "    ai.set_title(img_title)    \n",
        "    #fig.colorbar(im, ax=ai)\n",
        "    ma = am.imshow(mask,cmap='plasma', clim=(0,1))\n",
        "    am.set_title(mask_title)\n",
        "    al.imshow(lbl, cmap='plasma')\n",
        "    al.set_title(lbl_title)\n",
        "    plt.tight_layout()\n",
        "    al2.imshow(lbl2, cmap='plasma')\n",
        "    al2.set_title(lbl_title_2)\n",
        "    plt.tight_layout()\n",
        "    al3.imshow(lbl3, cmap='plasma')\n",
        "    al3.set_title(lbl_title_3)\n",
        "    plt.tight_layout()\n",
        "    al4.imshow(lbl4, cmap='plasma')\n",
        "    al4.set_title(lbl_title_4)\n",
        "    plt.tight_layout()\n",
        "    al5.imshow(lbl5, cmap='plasma')\n",
        "    al5.set_title(lbl_title_5)\n",
        "    plt.tight_layout()"
      ]
    },
    {
      "cell_type": "code",
      "execution_count": null,
      "metadata": {
        "colab": {
          "base_uri": "https://localhost:8080/"
        },
        "id": "ZdtVWZotN4g5",
        "outputId": "5cc10a39-6435-403e-e317-6c0448d0a743"
      },
      "outputs": [
        {
          "name": "stdout",
          "output_type": "stream",
          "text": [
            "7\n"
          ]
        }
      ],
      "source": [
        "test_image_2 = test_images[i]\n",
        "mask_image_2 = test_masks[i]\n",
        "test_image_2 = np.expand_dims(test_image_2, axis=0)\n",
        "pred_1 = model.predict(test_img_2)\n",
        "pred_image_1 = prediction_1.reshape(mask_2.shape)\n",
        "pred_2 = model2.predict(test_img_2)\n",
        "pred_image_2 = prediction_2.reshape(mask_2.shape)\n",
        "pred_3 = model3.predict(test_img_2)\n",
        "pred_image_3 = prediction_3.reshape(mask_2.shape)\n",
        "\n",
        "test_preds = np.array([pred_1, pred_2, pred_3])\n",
        "\n",
        "weighted_test_preds = np.tensordot(test_preds, opt_weights, axes=((0),(0)))\n",
        "weighted_ensemble_test_prediction = np.amax(weighted_test_preds, axis=3)\n",
        "weighted_ensemble_test_prediction = weighted_ensemble_test_prediction.reshape(mask_2.shape)\n",
        "print(i)"
      ]
    },
    {
      "cell_type": "code",
      "execution_count": null,
      "metadata": {
        "id": "VYaDlpwRyko0"
      },
      "outputs": [],
      "source": [
        "#test_img = np.squeeze(test_img_2,axis=0)\n",
        "### IoU SCORE###\n",
        "y_pred_thresholded1 = pred_image_1 > 0.5 \n",
        "y_pred_thresholded2 = pred_image_2 > 0.5 \n",
        "y_pred_thresholded3 = pred_image_3 > 0.5\n",
        "y_pred_thresholdedweighted = weighted_ensemble_prediction > 0.5\n",
        "y_pred_thresholdedweighted_max = opt_weighted_ensemble_prediction > 0.5\n",
        "\n",
        "#MODEL 1 \n",
        "intersection1 = np.logical_and(mask_image_2, y_pred_thresholded1)\n",
        "union1 = np.logical_or(y_test, y_pred_thresholded1)\n",
        "iou_score1 = np.sum(intersection1) / np.sum(union1)\n",
        "print(\"Mean IoU(Unet_efficientnetb4) = \", str(iou_score1*100)+'%')\n",
        "#MODEL 2 \n",
        "intersection2 = np.logical_and(mask_image_2, y_pred_thresholded2)\n",
        "union2 = np.logical_or(y_test, y_pred_thresholded2)\n",
        "iou_score2 = np.sum(intersection2) / np.sum(union2)\n",
        "print(\"Mean IoU(Unet_DenseNet201) = \", str(iou_score2*100)+'%')\n",
        "#MODEL 3\n",
        "intersection3 = np.logical_and(mask_image_2, y_pred_thresholded3)\n",
        "union3 = np.logical_or(y_test, y_pred_thresholded3)\n",
        "iou_score3 = np.sum(intersection3) / np.sum(union3)\n",
        "print(\"Mean IoU(Unet_Resnet50) = \", str(iou_score3*100)+'%')\n",
        "#ENSEMBLE MODEL \n",
        "intersection4 = np.logical_and(mask_image_2, y_pred_thresholdedweighted)\n",
        "union4 = np.logical_or(y_test, y_pred_thresholdedweighted)\n",
        "iou_score4 = np.sum(intersection4) / np.sum(union4)\n",
        "print(\"Mean IoU(Unet_ENSEMBLE_MODEL) = \", str(iou_score4*100)+'%')\n",
        "#OPTIMAL ENSEMBLE MODEL \n",
        "intersection5 = np.logical_and(mask_image_2, y_pred_thresholdedweighted_max)\n",
        "union5 = np.logical_or(y_test, y_pred_thresholdedweighted_max)\n",
        "iou_score5 = np.sum(intersection5) / np.sum(union5)\n",
        "print(\"Mean IoU(Unet_ENSEMBLE_MODEL) = \", str(iou_score5*100)+'%')\n",
        "\n",
        "######PLOT THE RESUTLS#########\n",
        "test_image_2 = np.squeeze(test_image_2,axis=0)\n",
        "plot_img_label_2(test_image_2,mask_image_2,prediction_image_1,prediction_image_2,prediction_image_3,weighted_ensemble_prediction,weighted_ensemble_test_prediction, lbl_title=\"Unet_efficientnetb4\",lbl_title_2=\"Unet_DenseNet201\",lbl_title_3=\"Unet_resnet50\",lbl_title_4 = \"ensembled_model\",lbl_title_5=\"opt_ensembled_model\")"
      ]
    },
    {
      "cell_type": "markdown",
      "metadata": {
        "id": "2YkpY2lcsLxM"
      },
      "source": [
        "## IMAGES FUSION"
      ]
    },
    {
      "cell_type": "code",
      "execution_count": null,
      "metadata": {
        "id": "M45CR2s9sQgv"
      },
      "outputs": [],
      "source": [
        "import cv2\n",
        "import numpy as np "
      ]
    },
    {
      "cell_type": "code",
      "execution_count": null,
      "metadata": {
        "id": "Y1tnCQqvsUhK"
      },
      "outputs": [],
      "source": [
        "IMG_0 = X[0]\n",
        "IMG_1 = X[1]\n",
        "IMG_2 = X[2]\n",
        "IMG_3 = X[3]\n",
        "IMG_4 = X[4]\n",
        "IMG_5 = X[5]\n",
        "IMG_6 = X[6]\n",
        "IMG_7 = X[7]\n",
        "IMG_8 = X[8]\n",
        "IMG_9 = X[9]\n",
        "IMG_10 = X[10]\n",
        "IMG_11= X[11]\n",
        "IMG_12 = X[12]"
      ]
    },
    {
      "cell_type": "code",
      "execution_count": null,
      "metadata": {
        "colab": {
          "base_uri": "https://localhost:8080/",
          "height": 264
        },
        "id": "SOTy35lkLULg",
        "outputId": "6a08d3b6-caae-4783-8caa-aa45aec1c525"
      },
      "outputs": [
        {
          "ename": "TypeError",
          "evalue": "ignored",
          "output_type": "error",
          "traceback": [
            "\u001b[0;31m---------------------------------------------------------------------------\u001b[0m",
            "\u001b[0;31mTypeError\u001b[0m                                 Traceback (most recent call last)",
            "\u001b[0;32m<ipython-input-125-690bb373c3fd>\u001b[0m in \u001b[0;36m<module>\u001b[0;34m\u001b[0m\n\u001b[0;32m----> 1\u001b[0;31m \u001b[0mIMG\u001b[0m \u001b[0;34m=\u001b[0m \u001b[0mnp\u001b[0m\u001b[0;34m.\u001b[0m\u001b[0mcorrelate\u001b[0m\u001b[0;34m(\u001b[0m\u001b[0mX\u001b[0m\u001b[0;34m,\u001b[0m\u001b[0maxis\u001b[0m\u001b[0;34m=\u001b[0m\u001b[0;36m0\u001b[0m\u001b[0;34m,\u001b[0m\u001b[0mdtype\u001b[0m\u001b[0;34m=\u001b[0m\u001b[0mnp\u001b[0m\u001b[0;34m.\u001b[0m\u001b[0mint64\u001b[0m\u001b[0;34m)\u001b[0m\u001b[0;34m\u001b[0m\u001b[0;34m\u001b[0m\u001b[0m\n\u001b[0m\u001b[1;32m      2\u001b[0m \u001b[0;31m#print(IMG.shape)\u001b[0m\u001b[0;34m\u001b[0m\u001b[0;34m\u001b[0m\u001b[0;34m\u001b[0m\u001b[0m\n\u001b[1;32m      3\u001b[0m \u001b[0;31m#print(IMG.dtype)\u001b[0m\u001b[0;34m\u001b[0m\u001b[0;34m\u001b[0m\u001b[0;34m\u001b[0m\u001b[0m\n\u001b[1;32m      4\u001b[0m \u001b[0;31m#print(IMG)\u001b[0m\u001b[0;34m\u001b[0m\u001b[0;34m\u001b[0m\u001b[0;34m\u001b[0m\u001b[0m\n",
            "\u001b[0;32m<__array_function__ internals>\u001b[0m in \u001b[0;36mcorrelate\u001b[0;34m(*args, **kwargs)\u001b[0m\n",
            "\u001b[0;31mTypeError\u001b[0m: _correlate_dispatcher() got an unexpected keyword argument 'axis'"
          ]
        }
      ],
      "source": [
        "IMG = np.correlate(X,axis=0,dtype=np.int64)\n",
        "#print(IMG.shape)\n",
        "#print(IMG.dtype)\n",
        "#print(IMG)"
      ]
    },
    {
      "cell_type": "code",
      "execution_count": null,
      "metadata": {
        "id": "6mY3DmAUEpd8"
      },
      "outputs": [],
      "source": [
        "#IMG = cv2.addWeighted(IMG_1,0.5,IMG_2,0.5,0)\n",
        "#IMG1 = cv2.add(IMG_1,IMG_2,IMG_3)"
      ]
    },
    {
      "cell_type": "code",
      "execution_count": null,
      "metadata": {
        "colab": {
          "base_uri": "https://localhost:8080/",
          "height": 286
        },
        "id": "g4LGbqUBFiZ8",
        "outputId": "c50f4a22-dc4b-477e-83cf-9df9e28f7112"
      },
      "outputs": [
        {
          "data": {
            "text/plain": [
              "<matplotlib.image.AxesImage at 0x7f68e62a3090>"
            ]
          },
          "execution_count": 117,
          "metadata": {},
          "output_type": "execute_result"
        },
        {
          "data": {
            "image/png": "[encoded data removed]",
            "text/plain": [
              "<Figure size 432x288 with 1 Axes>"
            ]
          },
          "metadata": {},
          "output_type": "display_data"
        }
      ],
      "source": [
        "plt.imshow(IMG)"
      ]
    },
    {
      "cell_type": "code",
      "execution_count": null,
      "metadata": {
        "id": "VFyUFByrGPPp"
      },
      "outputs": [],
      "source": [
        "IMG = np.expand_dims(IMG, axis=0)\n",
        "PREDICTION = model.predict(IMG)\n",
        "PREDICTION_IMAGE = PREDICTION.reshape(mask.shape)\n",
        "PREDICTION2 = model2.predict(IMG)\n",
        "PREDICTION_IMAGE2 = PREDICTION2.reshape(mask.shape)\n",
        "PREDICTION3 = model3.predict(IMG)\n",
        "PREDICTION_IMAGE3 = PREDICTION3.reshape(mask.shape)"
      ]
    },
    {
      "cell_type": "code",
      "execution_count": null,
      "metadata": {
        "colab": {
          "base_uri": "https://localhost:8080/",
          "height": 788
        },
        "id": "ThTlxnY_HD9C",
        "outputId": "57b63488-886d-42da-9059-a797c84da50a"
      },
      "outputs": [
        {
          "data": {
            "text/plain": [
              "<matplotlib.image.AxesImage at 0x7f68e3414b50>"
            ]
          },
          "execution_count": 124,
          "metadata": {},
          "output_type": "execute_result"
        },
        {
          "data": {
            "image/png": "[encoded data removed]",
            "text/plain": [
              "<Figure size 432x288 with 1 Axes>"
            ]
          },
          "metadata": {},
          "output_type": "display_data"
        },
        {
          "data": {
            "image/png": "[encoded data removed]",
            "text/plain": [
              "<Figure size 432x288 with 1 Axes>"
            ]
          },
          "metadata": {},
          "output_type": "display_data"
        },
        {
          "data": {
            "image/png": "[encoded data removed]",
            "text/plain": [
              "<Figure size 432x288 with 1 Axes>"
            ]
          },
          "metadata": {},
          "output_type": "display_data"
        }
      ],
      "source": [
        "plt.figure(1)\n",
        "plt.imshow(PREDICTION_IMAGE)\n",
        "plt.figure(2)\n",
        "plt.imshow(PREDICTION_IMAGE2)\n",
        "plt.figure(3)\n",
        "plt.imshow(PREDICTION_IMAGE3)"
      ]
    }
  ],
  "metadata": {
    "accelerator": "GPU",
    "colab": {
      "collapsed_sections": [
        "eFjnkr5pNZcT",
        "IuuYCleDWxov",
        "BytA44Av5NJv",
        "nn8Y-c7c_pHu",
        "88_ZwlhKs3P9",
        "2YkpY2lcsLxM"
      ],
      "provenance": [],
      "include_colab_link": true
    },
    "gpuClass": "standard",
    "kernelspec": {
      "display_name": "Python 3",
      "name": "python3"
    },
    "language_info": {
      "name": "python"
    }
  },
  "nbformat": 4,
  "nbformat_minor": 0
}